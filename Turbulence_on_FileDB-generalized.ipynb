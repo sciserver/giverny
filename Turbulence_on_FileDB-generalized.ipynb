{
 "cells": [
  {
   "cell_type": "markdown",
   "metadata": {},
   "source": [
    "# accessing turbulence isotropic cube files on filedb cluster from sciserver\n",
    "* created volume container (turb) showing all /turb folders on filedb system\n",
    "* access to turbinfo for metadata about these files\n",
    " * requires copying DataPath table\n",
    "* morton curve code pip installed in sciserver container\n",
    "* some special code to take into account 8x8x8 blobs with z-y-x ordering"
   ]
  },
  {
   "cell_type": "code",
   "execution_count": null,
   "metadata": {},
   "outputs": [],
   "source": [
    "%pip install morton-py"
   ]
  },
  {
   "cell_type": "code",
   "execution_count": 1,
   "metadata": {},
   "outputs": [],
   "source": [
    "import morton\n",
    "import math\n",
    "import time\n",
    "import struct\n",
    "import numpy as np\n",
    "import SciServer.CasJobs as cj"
   ]
  },
  {
   "cell_type": "code",
   "execution_count": 21,
   "metadata": {},
   "outputs": [],
   "source": [
    "class IsoCube:\n",
    "    def __init__(self, cube_num, cube_dimensions = 3, cube_subtitle = ''):\n",
    "        # setting up Morton curve\n",
    "        # cube size\n",
    "        # the assumed name of the dataset names are \"isotropic{N}\" (e.g. \"isotropic8192\")\n",
    "        self.N = cube_num\n",
    "        \"\"\"\n",
    "          if the turbulence database has a sub title (e.g. \"isotropic1024fine\" or \"isotropic1024coarse\"), specify\n",
    "          the subtitle here.  otherwise leave this as an empty string\n",
    "        \"\"\"\n",
    "        self.N_subtitle = cube_subtitle\n",
    "        bits = int(math.log(self.N,2))\n",
    "        self.mortoncurve = morton.Morton(dimensions = cube_dimensions, bits = bits)\n",
    "        self.initcache()\n",
    "        \n",
    "    def initcache(self):\n",
    "        # read SQL metadata for all of the turbulence data files into the cache\n",
    "        sql = f\"\"\"\n",
    "        select dbm.ProductionMachineName\n",
    "        , dbm.ProductionDatabaseName\n",
    "        , dbm.minLim, dbm.maxLim\n",
    "        , dbm.minTime, dbm.maxTime\n",
    "        , dp.path\n",
    "        from databasemap dbm\n",
    "           join datapath{str(self.N) + self.N_subtitle} dp\n",
    "             on dp.datasetid=dbm.datasetid\n",
    "           and dp.productionmachinename=dbm.productionmachinename\n",
    "           and dp.ProductionDatabaseName=dbm.ProductionDatabaseName\n",
    "        where dbm.datasetname = 'isotropic{str(self.N) + self.N_subtitle}'\n",
    "        order by minlim\n",
    "        \"\"\"\n",
    "        df = cj.executeQuery(sql, \"turbinfo\")\n",
    "        \n",
    "        x, y, z = self.mortoncurve.unpack(df['minLim'].values)\n",
    "        df['x_min'] = x\n",
    "        df['y_min'] = y\n",
    "        df['z_min'] = z\n",
    "        \n",
    "        x, y, z = self.mortoncurve.unpack(df['maxLim'].values)\n",
    "        df['x_max'] = x\n",
    "        df['y_max'] = y \n",
    "        df['z_max'] = z\n",
    "        \n",
    "        self.cache = df\n",
    "    \n",
    "    # defines some helper functions, all hardcoded (double-check this when other datasets are available)\n",
    "    def parseCornerPoints(self, x_min, x_max, y_min, y_max, z_min, z_max):\n",
    "        # only points 1, 2, 4, and 5 are required for finding the correct sub-boxes\n",
    "        # corner 1 is the bottom left back side origin point\n",
    "        # corner 2 is the bottom right back side corner point (same as corner 1 except at the maximum x-position)\n",
    "        # corner 4 is the bottom left front side corner point (same as corner 1 except at the maximum y-positon)\n",
    "        # corner 5 is the top left back corner point (same as corner 1 except at the maximum z-positon)\n",
    "        # corners 2, 3, and 4 travel around the bottom plane of the box clockwise from corner 1\n",
    "        # corners 6, 7, and 8 travel around the top plane of the box clockwise from corner 5\n",
    "        c1 = (x_min, y_min, z_min)\n",
    "        c2 = (x_max, y_min, z_min)\n",
    "        #c3 = (x_max, y_max, z_min)\n",
    "        c4 = (x_min, y_max, z_min)\n",
    "        c5 = (x_min, y_min, z_max)\n",
    "        #c6 = (x_max, y_min, z_max)\n",
    "        #c7 = (x_max, y_max, z_max)\n",
    "        #c8 = (x_min, y_max, z_max)\n",
    "        \n",
    "        corner_points = (c1, c2, c4, c5)\n",
    "        \n",
    "        return corner_points\n",
    "        \n",
    "    def getFilesForCornerPoints(self, x_range, y_range, z_range, var, time):\n",
    "        # define the corner points\n",
    "        x_min = x_range[0]; x_max = x_range[1];\n",
    "        y_min = y_range[0]; y_max = y_range[1];\n",
    "        z_min = z_range[0]; z_max = z_range[1];\n",
    "        \n",
    "        # retrieve the corner points\n",
    "        c_points = self.parseCornerPoints(x_min, x_max, y_min, y_max, z_min, z_max)\n",
    "        \n",
    "        database_files = []\n",
    "        \n",
    "        # only points 1, 2, 4, and 5 are required for finding the correct sub-boxes\n",
    "        c1_info = self.getFileForPoint(c_points[0][0], c_points[0][1], c_points[0][2], var, time)\n",
    "        c1_file = c1_info[0]\n",
    "        database_files.append(c1_file)\n",
    "        \n",
    "        c2_info = self.getFileForPoint(c_points[1][0], c_points[1][1], c_points[1][2], var, time)\n",
    "        c2_file = c2_info[0]\n",
    "        database_files.append(c2_file)\n",
    "        \n",
    "        c4_info = self.getFileForPoint(c_points[2][0], c_points[2][1], c_points[2][2], var, time)\n",
    "        c4_file = c4_info[0]\n",
    "        database_files.append(c4_file)\n",
    "        \n",
    "        c5_info = self.getFileForPoint(c_points[3][0], c_points[3][1], c_points[3][2], var, time)\n",
    "        c5_file = c5_info[0]\n",
    "        database_files.append(c5_file)\n",
    "        \n",
    "        return database_files\n",
    "    \n",
    "    def findSubBoxEndPoint(self, axis_range, datapoint, axis_position, db_file_comparison, var, time):\n",
    "        # placeholder end point value \n",
    "        end_point = -1\n",
    "        # if the difference between the axis range end points is <= to this value, then the end_point\n",
    "        # has been found\n",
    "        axis_range_difference = 2\n",
    "        \n",
    "        end_point_found = False\n",
    "        while not end_point_found:\n",
    "            mid_point = math.floor((axis_range[0] + axis_range[1]) / 2)\n",
    "            \n",
    "            # stops recursively shrinking the box once there difference between \n",
    "            # the two end points is <= axis_range_difference\n",
    "            if (axis_range[1] - axis_range[0]) <= axis_range_difference:\n",
    "                end_point_found = True\n",
    "            \n",
    "            # updates the datapoint to the new mid point\n",
    "            datapoint[axis_position] = mid_point\n",
    "            \n",
    "            # gets the db file for the new datapoint\n",
    "            datapoint_info = self.getFileForPoint(datapoint[0], datapoint[1], datapoint[2], var, time)\n",
    "            datapoint_file = datapoint_info[0]\n",
    "            \n",
    "            # compares the db file for datapoint to the origin point\n",
    "            if datapoint_file == db_file_comparison:\n",
    "                end_point = mid_point\n",
    "                axis_range[0] = mid_point\n",
    "            else:\n",
    "                end_point = mid_point - 1\n",
    "                axis_range[1] = mid_point\n",
    "            \n",
    "            print(f'midpoint = {mid_point}')\n",
    "            print(f'endpoint = {end_point}')\n",
    "            print('-')\n",
    "                \n",
    "        return end_point\n",
    "    \n",
    "    def identifySingleDatabaseFileSubBoxes(self, x_range, y_range, z_range, var, time):\n",
    "        # initially assumes the user specified box contains points in different files\n",
    "        # the boxes will be split up until all the points in each box are from a single database file\n",
    "        boxes_to_check = [(x_range, y_range, z_range)]\n",
    "        single_file_boxes = []\n",
    "        box_db_files = []\n",
    "        \n",
    "        while len(boxes_to_check) != 0:\n",
    "            for box in reversed(boxes_to_check):\n",
    "                db_files = self.getFilesForCornerPoints(box[0], box[1], box[2], var, time)\n",
    "                num_db_files = len(set(db_files))\n",
    "                \n",
    "                if num_db_files == 1:\n",
    "                    single_file_boxes.append(box)\n",
    "                    box_db_files.append(list(set(db_files))[0])\n",
    "                elif db_files[0] != db_files[1]:\n",
    "                    # this means that the x_range was sufficiently large such that all of the points were\n",
    "                    # not contained in a singular database file.  i.e. the database files were different for\n",
    "                    # corners 1 and 2.  the data x_range will now be split in half to create 2 sub-boxes for checking\n",
    "                    \n",
    "                    # this value is specified as 0 because the x-axis index is 0.  this is used for determing which \n",
    "                    # point (X, Y, or Z) the midpoint is going to be tested for.  in this case, this section of code\n",
    "                    # is adjusting only the x-axis\n",
    "                    axis_position = 0\n",
    "                    # stores the c1 corner point (X, Y, Z) of the box to be used for finding the first box end point\n",
    "                    # when shrinking the x-axis into sub-boxes\n",
    "                    datapoint = [box[0][0], box[1][0], box[2][0]]\n",
    "                    # which axis is sub-divided, in this case it is the x-axis\n",
    "                    axis_range = list(box[0])\n",
    "                    # determine where the end x-axis point is for the first sub-box\n",
    "                    first_box_end_point = self.findSubBoxEndPoint(axis_range, datapoint, axis_position, db_files[0], \\\n",
    "                                                                  var, time)\n",
    "                    \n",
    "                    first_sub_box = [[box[0][0], first_box_end_point], box[1], box[2]]\n",
    "                    second_sub_box = [[first_box_end_point + 1, box[0][1]], box[1], box[2]]\n",
    "                    \n",
    "                    boxes_to_check.append(second_sub_box)\n",
    "                    boxes_to_check.append(first_sub_box)\n",
    "                elif db_files[0] != db_files[2]:\n",
    "                    # this means that the y_range was sufficiently large such that all of the points were\n",
    "                    # not contained in a singular database file.  i.e. the database files were different for\n",
    "                    # corners 1 and 4.  the data y_range will now be split in half to create 2 sub-boxes for checking\n",
    "                    \n",
    "                    # this value is specified as 1 because the y-axis index is 1.  this is used for determing which \n",
    "                    # point (X, Y, or Z) the midpoint is going to be tested for.  in this case, this section of code\n",
    "                    # is adjusting only the y-axis\n",
    "                    axis_position = 1\n",
    "                    # stores the c1 corner point (X, Y, Z) of the box to be used for finding the first box end point \n",
    "                    # when shrinking the y-axis into sub-boxes\n",
    "                    datapoint = [box[0][0], box[1][0], box[2][0]]\n",
    "                    # which axis is sub-divided, in this case it is the y-axis\n",
    "                    axis_range = list(box[1])\n",
    "                    # determine where the end y-axis point is for the first sub-box\n",
    "                    first_box_end_point = self.findSubBoxEndPoint(axis_range, datapoint, axis_position, db_files[0], \\\n",
    "                                                                  var, time)\n",
    "                    \n",
    "                    first_sub_box = [box[0], [box[1][0], first_box_end_point], box[2]]\n",
    "                    second_sub_box = [box[0], [first_box_end_point + 1, box[1][1]], box[2]]\n",
    "                    \n",
    "                    boxes_to_check.append(second_sub_box)\n",
    "                    boxes_to_check.append(first_sub_box)\n",
    "                elif db_files[0] != db_files[3]:\n",
    "                    # this means that the z_range was sufficiently large such that all of the points were\n",
    "                    # not contained in a singular database file.  i.e. the database files were different for\n",
    "                    # corners 1 and 5.  the data z_range will now be split in half to create 2 sub-boxes for checking\n",
    "                    \n",
    "                    # this value is specified as 2 because the z-axis index is 2.  this is used for determing which \n",
    "                    # point (X, Y, or Z) the midpoint is going to be tested for.  in this case, this section of code\n",
    "                    # is adjusting only the z-axis\n",
    "                    axis_position = 2\n",
    "                    # stores the c1 corner point (X, Y, Z) of the box to be used for finding the first box end point \n",
    "                    # when shrinking the z-axis into sub-boxes\n",
    "                    datapoint = [box[0][0], box[1][0], box[2][0]]\n",
    "                    # which axis is sub-divided, in this case it is the z-axis\n",
    "                    axis_range = list(box[2])\n",
    "                    # determine where the end z-axis point is for the first sub-box\n",
    "                    first_box_end_point = self.findSubBoxEndPoint(axis_range, datapoint, axis_position, db_files[0], \\\n",
    "                                                                  var, time)\n",
    "                    \n",
    "                    first_sub_box = [box[0], box[1], [box[2][0], first_box_end_point]]\n",
    "                    second_sub_box = [box[0], box[1], [first_box_end_point + 1, box[2][1]]]\n",
    "                    \n",
    "                    boxes_to_check.append(second_sub_box)\n",
    "                    boxes_to_check.append(first_sub_box)\n",
    "                    \n",
    "                # either the original box is fully contained in a single database file, or it is in more than one.\n",
    "                # in either case, the box should be removed from further checking.  the sub-boxes will be checked\n",
    "                # if necessary.\n",
    "                boxes_to_check.remove(box)\n",
    "                    \n",
    "        print(f'num sub-boxes = {len(box_db_files)}\\n-')\n",
    "        for i, box in enumerate(single_file_boxes):\n",
    "            print(box)\n",
    "            print(box_db_files[i])\n",
    "    \n",
    "    def getVelocitiesForAllPoints(self, x_range, y_range, z_range, min_step = 1):\n",
    "        # manually retrieves the velocities for all points inside the box\n",
    "        # this is computationally expensive and not efficient, and this function is deprecated\n",
    "        x_min = x_range[0]; x_max = x_range[1];\n",
    "        y_min = y_range[0]; y_max = y_range[1];\n",
    "        z_min = z_range[0]; z_max = z_range[1];\n",
    "        \n",
    "        current_x_max = x_max\n",
    "        current_y_max = y_max\n",
    "        current_z_max = z_max\n",
    "        \n",
    "        velocity_map = {}\n",
    "        velocity_data = np.array([-1, -1, -1])\n",
    "        for x_point in np.arange(x_min, x_max + 1, min_step):\n",
    "            for y_point in np.arange(y_min, y_max + 1, min_step):\n",
    "                for z_point in np.arange(z_min, z_max + 1, min_step):\n",
    "                    velocity_data = self.getISO_Point(x_point, y_point, z_point, var = 'vel', time = 0, verbose = False)\n",
    "                    \n",
    "                    velocity_map[(x_point, y_point, z_point)] = velocity_data\n",
    "                    #print(x_point)\n",
    "                    #print(cornercode, offset)\n",
    "        \n",
    "        return velocity_map\n",
    "        \n",
    "    def getOffset(self, X, Y, Z):\n",
    "        \"\"\"\n",
    "        TODO is this code correct for velocity as well?  YES\n",
    "        \"\"\"\n",
    "        # morton curve index corresponding to the user specified X, Y, and Z values\n",
    "        code = self.mortoncurve.pack(X, Y, Z)\n",
    "        \"\"\"\n",
    "            - always looking at an 8 x 8 x 8 box around the grid point, so the shift is always 9 bits to determine \n",
    "              the bottom left corner of the box. the cornercode (bottom left corner of the 8 x 8 x 8 box) is always \n",
    "              in the same file as the user-specified grid point\n",
    "        \"\"\"\n",
    "        # equivalent to 512 * (math.floor(code / 512))\n",
    "        cornercode = (code >> 9) << 9\n",
    "        corner = np.array(self.mortoncurve.unpack(cornercode))\n",
    "        # calculates the offset between the grid point and corner of the box and converts it to a 4-byte float\n",
    "        offset = np.sum((np.array([X, Y, Z]) - corner) * np.array([1, 8, 64]))\n",
    "        \n",
    "        return cornercode, offset\n",
    "    \n",
    "    def getFileForPoint_nocache(self, X, Y, Z, var = 'pr', time = 0):\n",
    "        \"\"\"\n",
    "        Querying the SQL metadata database for the information the specific file corresponding to the user specified \n",
    "        X, Y, and Z grid point\n",
    "        \"\"\"\n",
    "        cornercode, offset = self.getOffset(X, Y, Z)\n",
    "        \n",
    "        sql = f\"\"\"\n",
    "        select dbm.ProductionMachineName\n",
    "        , dbm.ProductionDatabaseName\n",
    "        , dbm.minLim, dbm.maxLim\n",
    "        , dbm.minTime, dbm.maxTime\n",
    "        , dp.path\n",
    "        from databasemap dbm\n",
    "           join datapath{str(self.N) + self.N_subtitle} dp\n",
    "             on dp.datasetid=dbm.datasetid\n",
    "           and dp.productionmachinename=dbm.productionmachinename\n",
    "           and dp.ProductionDatabaseName=dbm.ProductionDatabaseName\n",
    "        where dbm.datasetname = 'isotropic{str(self.N) + self.N_subtitle}'\n",
    "        and {cornercode} between minLim and maxLim\n",
    "        order by minlim\n",
    "        \"\"\"\n",
    "        df = cj.executeQuery(sql, \"turbinfo\")\n",
    "        t = df.loc[0]\n",
    "        dataN = t.path.split(\"/\")\n",
    "        f = f'/home/idies/workspace/turb/data{t.ProductionMachineName[-2:]}_{dataN[2][-2:]}/{dataN[-1]}/{t.ProductionDatabaseName}_{var}_{time}.bin'\n",
    "        return f, cornercode, offset, t.minLim\n",
    "    \n",
    "    def getFileForPoint(self, X, Y, Z, var = 'pr', time = 0):\n",
    "        \"\"\"\n",
    "        Querying the cached SQL metadata for the file for the user specified grid point\n",
    "        \"\"\"\n",
    "        cornercode, offset = self.getOffset(X, Y, Z)\n",
    "        t = self.cache[(self.cache['minLim'] <= cornercode) & (self.cache['maxLim'] >= cornercode)]\n",
    "        t = t.iloc[0]\n",
    "        dataN = t.path.split(\"/\")\n",
    "        f = f'/home/idies/workspace/turb/data{t.ProductionMachineName[-2:]}_{dataN[2][-2:]}/{dataN[-1]}/{t.ProductionDatabaseName}_{var}_{time}.bin'\n",
    "        return f, cornercode, offset, t.minLim\n",
    "    \n",
    "    def getISO_Point(self, X, Y, Z, var = 'pr', time = 0, verbose = False):\n",
    "        \"\"\"\n",
    "        find the value for the specified var(iable) at the specified grid point X, Y, Z and the specified time. position \n",
    "        is assumed to be a point of the grid, i.e. should be integers, and time should be an integer between 0 and 5.\n",
    "        \"\"\"\n",
    "        f, cornercode, offset, minLim = self.getFileForPoint(X, Y, Z, var, time)\n",
    "        if verbose:\n",
    "            print(f, cornercode, offset, minLim)\n",
    "            \n",
    "        \"\"\"\n",
    "            currently two vars are accepted (pressure and velocity). both are 4 byte values, but there are 3 velocities \n",
    "            per grid point (velocity magnitude along each dimension).\n",
    "        \"\"\" \n",
    "        N = 1\n",
    "        if var == 'vel':\n",
    "            N = 3\n",
    "        \n",
    "        with open(f, 'rb') as b:\n",
    "            b.seek(N * 4 * (cornercode + offset - minLim))\n",
    "            xraw = b.read(4 * N)\n",
    "            \n",
    "        l = struct.unpack('f' * N, xraw)\n",
    "        return np.asarray(l)"
   ]
  },
  {
   "cell_type": "code",
   "execution_count": 22,
   "metadata": {},
   "outputs": [
    {
     "name": "stdout",
     "output_type": "stream",
     "text": [
      "midpoint = 306\n",
      "endpoint = 306\n",
      "-\n",
      "midpoint = 409\n",
      "endpoint = 409\n",
      "-\n",
      "midpoint = 460\n",
      "endpoint = 460\n",
      "-\n",
      "midpoint = 486\n",
      "endpoint = 486\n",
      "-\n",
      "midpoint = 499\n",
      "endpoint = 499\n",
      "-\n",
      "midpoint = 505\n",
      "endpoint = 505\n",
      "-\n",
      "midpoint = 508\n",
      "endpoint = 508\n",
      "-\n",
      "midpoint = 510\n",
      "endpoint = 510\n",
      "-\n",
      "midpoint = 511\n",
      "endpoint = 511\n",
      "-\n",
      "num sub-boxes = 2\n",
      "-\n",
      "[[1023, 1023], [100, 511], [1000, 1023]]\n",
      "/home/idies/workspace/turb/data09_01/iso8192db_06/iso8192db0006_vel_0.bin\n",
      "[[1023, 1023], [512, 512], [1000, 1023]]\n",
      "/home/idies/workspace/turb/data05_02/iso8192db_08/iso8192db0008_vel_0.bin\n",
      "CPU times: user 63.7 ms, sys: 1.01 ms, total: 64.7 ms\n",
      "Wall time: 61.5 ms\n"
     ]
    }
   ],
   "source": [
    "# gets velocity for all points inside the user specified box\n",
    "iso_data = IsoCube(cube_num = 8192, cube_dimensions = 3, cube_subtitle = '')\n",
    "\n",
    "# user specified box rather than a singular data point\n",
    "x_range = [1023, 1023]\n",
    "y_range = [100, 512]\n",
    "z_range = [1000, 1023]\n",
    "\n",
    "# test values for the whole grid\n",
    "# x_range = [0, 8191]\n",
    "# y_range = [0, 8191]\n",
    "# z_range = [0, 8191]\n",
    "\n",
    "# variable of interest, currently set to velocity\n",
    "var = 'vel'\n",
    "\n",
    "# time point\n",
    "time = 0\n",
    "\n",
    "# get a map of the database files where all the data points are in\n",
    "#%time iso_data.getVelocitiesForAllPoints(x_range, y_range, z_range, min_step = 1)\n",
    "#v3 = iso_data.getVelocitiesForAllPoints(x_range, y_range, z_range, min_step = 1)\n",
    "#print(f'\\nnum velocities = {len(v3)}')\n",
    "#print(v3)\n",
    "\n",
    "%time iso_data.identifySingleDatabaseFileSubBoxes(x_range, y_range, z_range, var, time)\n",
    "\n",
    "# get velocities for all points inside the user-specified box\n",
    "# iso_data.getISO_Points(xRange, yRange, zRange, var, time, verbose = True)"
   ]
  },
  {
   "cell_type": "code",
   "execution_count": 299,
   "metadata": {
    "tags": []
   },
   "outputs": [
    {
     "name": "stdout",
     "output_type": "stream",
     "text": [
      "CPU times: user 3.8 ms, sys: 0 ns, total: 3.8 ms\n",
      "Wall time: 3.58 ms\n",
      "CPU times: user 28.5 ms, sys: 6.13 ms, total: 34.6 ms\n",
      "Wall time: 1.15 s\n"
     ]
    },
    {
     "data": {
      "text/plain": [
       "('/home/idies/workspace/turb/data05_03/iso8192db_13/iso8192db0013_vel_0.bin',\n",
       " 1687886336,\n",
       " 37,\n",
       " 1610612736)"
      ]
     },
     "execution_count": 299,
     "metadata": {},
     "output_type": "execute_result"
    }
   ],
   "source": [
    "# range for X, Y, and Z grid points are 0 to N-1\n",
    "X = 1053; Y = 100; Z = 1000;\n",
    "# variable of interest, currently set to velocity\n",
    "var = 'vel'\n",
    "# time point\n",
    "time = 0\n",
    "%time isoData.getFileForPoint(X, Y, Z, var, time)\n",
    "%time isoData.getFileForPoint_nocache(X, Y, Z, var, time)\n"
   ]
  },
  {
   "cell_type": "code",
   "execution_count": 43,
   "metadata": {},
   "outputs": [
    {
     "data": {
      "text/plain": [
       "(0.42414568785037976, 0.07669903939428206, 0.7669903939428205)"
      ]
     },
     "execution_count": 43,
     "metadata": {},
     "output_type": "execute_result"
    }
   ],
   "source": [
    "# for trials on  http://turbulence.pha.jhu.edu/webquery/query.aspx\n",
    "# converts the X, Y, and Z points to the domain of [0, 2*pi]\n",
    "dxyz=2*math.pi/8192\n",
    "x=X*dxyz\n",
    "y=Y*dxyz\n",
    "z=Z*dxyz\n",
    "# enter these values in UI\n",
    "x,y,z"
   ]
  },
  {
   "cell_type": "markdown",
   "metadata": {},
   "source": [
    "## compare direct access to cutout\n",
    "To get raw data in HDF5 format one can run a job at http://turbulence.idies.jhu.edu/cutout/jobs.\n",
    "Result will be put on scratch. Here an example reading the result of such a job, using the parameters.txt to find the location."
   ]
  },
  {
   "cell_type": "code",
   "execution_count": 44,
   "metadata": {},
   "outputs": [],
   "source": [
    "import h5py\n",
    "import json"
   ]
  },
  {
   "cell_type": "code",
   "execution_count": 180,
   "metadata": {},
   "outputs": [
    {
     "data": {
      "text/plain": [
       "{'dataset': 'isotropic8192',\n",
       " 'filter_width': 1,\n",
       " 'function': 'u',\n",
       " 'output_filename': 'isotropic8192',\n",
       " 'stridet': 1,\n",
       " 'stridex': 1,\n",
       " 'stridey': 1,\n",
       " 'stridez': 1,\n",
       " 'te': 1,\n",
       " 'token': 'edu.jhu.pha.turbulence.testing-201406',\n",
       " 'ts': 1,\n",
       " 'xe': 1010,\n",
       " 'xs': 1000,\n",
       " 'ye': 10,\n",
       " 'ys': 1,\n",
       " 'ze': 10,\n",
       " 'zs': 1}"
      ]
     },
     "execution_count": 180,
     "metadata": {},
     "output_type": "execute_result"
    }
   ],
   "source": [
    "# ran job x in [1000,1010], y and z in [1,10]\n",
    "#folder='/home/idies/workspace/Temporary/gerard/scratch/jobs/__turbcutout__/20211012/20211012094603-148997/'\n",
    "folder = '/home/idies/workspace/Temporary/mschnau1/scratch/jobs/__turbcutout__/20211027/20211027121934-151320/'\n",
    "p=f'{folder}parameters.txt' \n",
    "with open(p,'r') as f:\n",
    "    pars=json.load(f)\n",
    "pars"
   ]
  },
  {
   "cell_type": "code",
   "execution_count": 181,
   "metadata": {},
   "outputs": [],
   "source": [
    "f=f'{folder}isotropic8192.h5' \n",
    "h5=h5py.File(f,'r')"
   ]
  },
  {
   "cell_type": "code",
   "execution_count": 182,
   "metadata": {},
   "outputs": [
    {
     "data": {
      "text/plain": [
       "(10, 10, 11, 3)"
      ]
     },
     "execution_count": 182,
     "metadata": {},
     "output_type": "execute_result"
    }
   ],
   "source": [
    "h5['Velocity_0001'].shape"
   ]
  },
  {
   "cell_type": "code",
   "execution_count": 183,
   "metadata": {},
   "outputs": [],
   "source": [
    "x=h5['xcoor']\n",
    "y=h5['ycoor']\n",
    "z=h5['zcoor']\n",
    "vel=h5['Velocity_0001']"
   ]
  },
  {
   "cell_type": "code",
   "execution_count": 184,
   "metadata": {},
   "outputs": [
    {
     "data": {
      "text/plain": [
       "array([-2.850525  ,  0.42863464,  3.3042493 ], dtype=float32)"
      ]
     },
     "execution_count": 184,
     "metadata": {},
     "output_type": "execute_result"
    }
   ],
   "source": [
    "# choose an offset in the retrieved cutout\n",
    "dx=3;dy=4;dz=7;\n",
    "v1=vel[dz,dy,dx,:]\n",
    "v1"
   ]
  },
  {
   "cell_type": "code",
   "execution_count": 185,
   "metadata": {},
   "outputs": [],
   "source": [
    "# calculate position in the file\n",
    "X=pars['xs']+dx-1\n",
    "Y=pars['ys']+dy-1  # cutout starts at 1\n",
    "Z=pars['zs']+dz-1"
   ]
  },
  {
   "cell_type": "code",
   "execution_count": 186,
   "metadata": {},
   "outputs": [
    {
     "data": {
      "text/plain": [
       "array([-2.8505249 ,  0.42863464,  3.30424929])"
      ]
     },
     "execution_count": 186,
     "metadata": {},
     "output_type": "execute_result"
    }
   ],
   "source": [
    "var='vel'\n",
    "time=pars['ts']-1   # in cutout time starts at 1\n",
    "v2=isoData.getISO_Point(X,Y,Z,var,time,verbose=False)\n",
    "v2"
   ]
  },
  {
   "cell_type": "code",
   "execution_count": 187,
   "metadata": {},
   "outputs": [
    {
     "data": {
      "text/plain": [
       "array([0., 0., 0.])"
      ]
     },
     "execution_count": 187,
     "metadata": {},
     "output_type": "execute_result"
    }
   ],
   "source": [
    "# hope this would be zeros\n",
    "v1-v2"
   ]
  },
  {
   "cell_type": "code",
   "execution_count": 188,
   "metadata": {},
   "outputs": [
    {
     "data": {
      "text/plain": [
       "array([0.88515317, 2.20288801, 2.40113282])"
      ]
     },
     "execution_count": 188,
     "metadata": {},
     "output_type": "execute_result"
    }
   ],
   "source": [
    "v4=isoData.getISO_Point(553,100,1000,var,time,verbose=False)\n",
    "v4"
   ]
  },
  {
   "cell_type": "code",
   "execution_count": 206,
   "metadata": {},
   "outputs": [
    {
     "name": "stdout",
     "output_type": "stream",
     "text": [
      "{(553, 100, 1000): array([0.88515317, 2.20288801, 2.40113282])}\n"
     ]
    },
    {
     "data": {
      "text/plain": [
       "array([0., 0., 0.])"
      ]
     },
     "execution_count": 206,
     "metadata": {},
     "output_type": "execute_result"
    }
   ],
   "source": [
    "print(v3)\n",
    "v4-v3[X, Y, Z]"
   ]
  },
  {
   "cell_type": "code",
   "execution_count": null,
   "metadata": {},
   "outputs": [],
   "source": []
  }
 ],
 "metadata": {
  "kernelspec": {
   "display_name": "Python 3.8 (py38)",
   "language": "python",
   "name": "py38"
  },
  "language_info": {
   "codemirror_mode": {
    "name": "ipython",
    "version": 3
   },
   "file_extension": ".py",
   "mimetype": "text/x-python",
   "name": "python",
   "nbconvert_exporter": "python",
   "pygments_lexer": "ipython3",
   "version": "3.8.5"
  }
 },
 "nbformat": 4,
 "nbformat_minor": 4
}
