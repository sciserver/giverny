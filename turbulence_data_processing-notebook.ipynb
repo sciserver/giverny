{
 "cells": [
  {
   "cell_type": "code",
   "execution_count": null,
   "metadata": {},
   "outputs": [],
   "source": [
    "import os\n",
    "from giverny import turbulence_isotropic_cube as turb_processing\n",
    "\n",
    "# user-defined parameters for processing data.\n",
    "# size of the model cube that data will be retrieved for.\n",
    "cube_num = 8192\n",
    "# number of dimensions that model data exists in.  default is 3 (i.e. X, Y, and Z dimensions).\n",
    "cube_dimensions = 3\n",
    "# turbulence dataset name, e.g. \"isotropic8192\" or \"isotropic1024fine\".\n",
    "cube_title = 'isotropic8192'\n",
    "# folder name to write the hdf5 output files to.\n",
    "output_folder_name = 'turbulence_hdf5_output'\n",
    "\n",
    "# user specified box rather for which data values will be retrieved for each point inside the box.\n",
    "# the user should specify the 1-based index range. this code will convert to 0-based index ranges for python.\n",
    "x_range = [1, 512]\n",
    "y_range = [1, 512]\n",
    "z_range = [1, 512]\n",
    "\n",
    "# converts the 1-based axes ranges above to 0-based axes ranges.\n",
    "x_range, y_range, z_range = turb_processing.convert_to_0_based_ranges(x_range, y_range, z_range)\n",
    "\n",
    "# variable of interest, currently set to velocity.\n",
    "var = 'vel'\n",
    "# time point. the user should specify the 1-based timepoint. this code will convert to a 0-based timepoint for python.\n",
    "timepoint = 1\n",
    "\n",
    "# converts the 1-based timepoint above to a 0-based timepoint.\n",
    "timepoint = turb_processing.convert_to_0_based_value(timepoint)\n",
    "\n",
    "# process the data.\n",
    "# -----\n",
    "# create the output folder directory if it does not already exist.\n",
    "dir_path = os.path.dirname(os.path.realpath('__file__')) + '/'\n",
    "output_path = dir_path + output_folder_name + '/'\n",
    "if not os.path.exists(output_path):\n",
    "    os.mkdir(output_path)\n",
    "\n",
    "# parse the database files, generate the output_data matrix, and write the matrix to an hdf5 file.\n",
    "output_data = turb_processing.process_data(cube_num, cube_dimensions, cube_title, output_path, x_range, y_range, z_range, var, timepoint)"
   ]
  },
  {
   "cell_type": "code",
   "execution_count": null,
   "metadata": {},
   "outputs": [],
   "source": [
    "# retrieve the data value for a datapoint (X, Y, Z). the points use a 1-based index.\n",
    "X = 4\n",
    "Y = 5\n",
    "Z = 8\n",
    "\n",
    "data_value = turb_processing.retrieve_data_for_point(X, Y, Z, output_data, x_range, y_range, z_range)\n",
    "\n",
    "print(f'data value (\"{var}\") for datapoint ({X}, {Y}, {Z}):\\n{data_value}\\n' + '-' * 5)"
   ]
  },
  {
   "cell_type": "code",
   "execution_count": null,
   "metadata": {},
   "outputs": [],
   "source": []
  }
 ],
 "metadata": {
  "kernelspec": {
   "display_name": "Python 3.8 (py38)",
   "language": "python",
   "name": "py38"
  },
  "language_info": {
   "codemirror_mode": {
    "name": "ipython",
    "version": 3
   },
   "file_extension": ".py",
   "mimetype": "text/x-python",
   "name": "python",
   "nbconvert_exporter": "python",
   "pygments_lexer": "ipython3",
   "version": "3.8.5"
  }
 },
 "nbformat": 4,
 "nbformat_minor": 4
}
